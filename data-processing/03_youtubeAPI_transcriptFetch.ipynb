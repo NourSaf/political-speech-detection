{
 "cells": [
  {
   "cell_type": "markdown",
   "id": "14e0e337",
   "metadata": {},
   "source": [
    "# YouTube Transcript Processing for Die Linke\n",
    "\n",
    "1. This code retrieves German language transcripts from YouTube videos of \"Die Linke\" political party using video IDs stored in a JSON file\n",
    "2. Processes and cleans the transcript data by:\n",
    "    - Handling videos with no available transcripts\n",
    "    - Removing line breaks from text\n",
    "    - Adding metadata: party name \"Die Linke\" and initializing a score of 0\n",
    "3. Creates a cleaned dataset saved as JSON for further analysis"
   ]
  },
  {
   "cell_type": "code",
   "execution_count": null,
   "id": "0833cf6c",
   "metadata": {},
   "outputs": [],
   "source": [
    "pip install youtube-transcript-api"
   ]
  },
  {
   "cell_type": "code",
   "execution_count": null,
   "id": "fade903c",
   "metadata": {},
   "outputs": [],
   "source": [
    "from youtube_transcript_api import YouTubeTranscriptApi, TranscriptsDisabled, NoTranscriptFound\n",
    "import json"
   ]
  },
  {
   "cell_type": "code",
   "execution_count": null,
   "id": "24aec05b",
   "metadata": {},
   "outputs": [],
   "source": [
    "ytt_api = YouTubeTranscriptApi()\n",
    "# ytt_api.fetch(\"0g8nnp7tB70\")\n",
    "video_id = \"0g8nnp7tB70\"\n",
    "transcript = ytt_api.fetch(video_id, languages=['de'])"
   ]
  },
  {
   "cell_type": "code",
   "execution_count": null,
   "id": "fb4eb3e5",
   "metadata": {},
   "outputs": [],
   "source": [
    "print(transcript)"
   ]
  },
  {
   "cell_type": "code",
   "execution_count": null,
   "id": "cb4c7eba",
   "metadata": {},
   "outputs": [],
   "source": [
    "transcript_list = []\n",
    "\n",
    "for snippet in transcript:\n",
    "    transcript_list.append(snippet.text)\n",
    "print(\"Ready to use \")"
   ]
  },
  {
   "cell_type": "code",
   "execution_count": null,
   "id": "97dfea54",
   "metadata": {},
   "outputs": [],
   "source": [
    "transcript[1].text"
   ]
  },
  {
   "cell_type": "code",
   "execution_count": null,
   "id": "3e3ffaff",
   "metadata": {},
   "outputs": [],
   "source": [
    "transcript_list[:10]"
   ]
  },
  {
   "cell_type": "code",
   "execution_count": null,
   "id": "85e49f49",
   "metadata": {},
   "outputs": [],
   "source": [
    "joined_transcript = \" \".join(transcript_list)"
   ]
  },
  {
   "cell_type": "code",
   "execution_count": null,
   "id": "e34c7930",
   "metadata": {},
   "outputs": [],
   "source": [
    "print(joined_transcript)"
   ]
  },
  {
   "cell_type": "code",
   "execution_count": null,
   "id": "10144834",
   "metadata": {},
   "outputs": [],
   "source": [
    "PATH = \"/data/linkeData/LinkeYouTubeVids.json\"\n",
    "with open(PATH, \"r\") as f:\n",
    "    linke_df = json.load(f)"
   ]
  },
  {
   "cell_type": "code",
   "execution_count": null,
   "id": "2c4083d5",
   "metadata": {},
   "outputs": [],
   "source": [
    "linke_df[1][\"id\"]\n",
    "print(len(linke_df))"
   ]
  },
  {
   "cell_type": "code",
   "execution_count": null,
   "id": "dc6bffae",
   "metadata": {},
   "outputs": [],
   "source": [
    "df_transcripts = linke_df.copy()"
   ]
  },
  {
   "cell_type": "code",
   "execution_count": null,
   "id": "670f04ea",
   "metadata": {},
   "outputs": [],
   "source": [
    "df_transcripts[1]"
   ]
  },
  {
   "cell_type": "code",
   "execution_count": null,
   "id": "4634d8fb",
   "metadata": {},
   "outputs": [],
   "source": [
    "# Total items to know where the loop currently is\n",
    "total_items = len(df_transcripts)\n",
    "\n",
    "## TODO: Loop through JSON and get ID's\n",
    "for index, item in enumerate(df_transcripts):\n",
    "    id = item[\"id\"]\n",
    "    print(f\"Proccesing Item {id}: {index + 1} / {total_items}\")\n",
    "    try:\n",
    "        ## TODO: Send the ID to YouTube API to get transcript \"DE\" only if it's in German\n",
    "        transcript = ytt_api.fetch(id, languages=['de'])\n",
    "        transcript_list = []\n",
    "        for snippet in transcript:\n",
    "            transcript_list.append(snippet.text)\n",
    "        joined_transcript = \" \".join(transcript_list)\n",
    "\n",
    "        ## TODO: Append transcript to original JSON\n",
    "        item[\"transcript\"] = joined_transcript\n",
    "    ## TODO: Check for errors and non german langauge. \n",
    "    except (TranscriptsDisabled, NoTranscriptFound, Exception) as e:\n",
    "        # Handle the case when transcript is not available\n",
    "        print(f\"No transcript available for video ID: {id}, Error: {str(e)}\")\n",
    "        ## TODO: Append no transcript to original JSON if not available\n",
    "        item[\"transcript\"] = \"no transcript available\""
   ]
  },
  {
   "cell_type": "code",
   "execution_count": null,
   "id": "c4f52e33",
   "metadata": {},
   "outputs": [],
   "source": [
    "df_transcripts"
   ]
  },
  {
   "cell_type": "code",
   "execution_count": 77,
   "id": "96abac59",
   "metadata": {},
   "outputs": [],
   "source": [
    "file_path = \"/Users/noursafadi/Documents/Uni/Parsons-Spring-25/MajorStudio02/Thesis/political_ai/data/linkeData/Transcribed_linke.json\"\n",
    "with open(file_path, 'w', encoding='utf-8') as file:\n",
    "    json.dump(df_transcripts, file, ensure_ascii=False, indent=2)"
   ]
  },
  {
   "cell_type": "code",
   "execution_count": 97,
   "id": "b67255be",
   "metadata": {},
   "outputs": [],
   "source": [
    "df_cleaned = []\n",
    "not_transcribed = []\n",
    "for x in df_transcripts:\n",
    "    if x[\"transcript\"] == \"no transcript available\":\n",
    "        not_transcribed.append(x)\n",
    "    else:\n",
    "        df_cleaned.append(x)"
   ]
  },
  {
   "cell_type": "code",
   "execution_count": 96,
   "id": "0d03a803",
   "metadata": {},
   "outputs": [
    {
     "data": {
      "text/plain": [
       "897"
      ]
     },
     "execution_count": 96,
     "metadata": {},
     "output_type": "execute_result"
    }
   ],
   "source": [
    "len(df_cleaned)"
   ]
  },
  {
   "cell_type": "code",
   "execution_count": null,
   "id": "2de32709",
   "metadata": {},
   "outputs": [],
   "source": [
    "df_cleaned"
   ]
  },
  {
   "cell_type": "code",
   "execution_count": null,
   "id": "d5e5401d",
   "metadata": {},
   "outputs": [],
   "source": [
    "import re\n",
    "## Clean breaks \n",
    "for item in df_cleaned:\n",
    "    item[\"transcript\"] = re.sub(r'\\s*[\\n\\r]+\\s*', ' ', item[\"transcript\"])\n"
   ]
  },
  {
   "cell_type": "code",
   "execution_count": 117,
   "id": "6021459f",
   "metadata": {},
   "outputs": [],
   "source": [
    "for item in df_cleaned:\n",
    "    item[\"party\"] = \"Die Linke\"\n",
    "    item[\"score\"] = 0"
   ]
  },
  {
   "cell_type": "code",
   "execution_count": null,
   "id": "4c4edb24",
   "metadata": {},
   "outputs": [],
   "source": [
    "file_path = \"\"\n",
    "\n",
    "with open (file_path, \"w\", encoding=\"utf-8\") as file:\n",
    "    json.dump(df_cleaned, file, ensure_ascii=False, indent=2)"
   ]
  }
 ],
 "metadata": {
  "kernelspec": {
   "display_name": "base",
   "language": "python",
   "name": "python3"
  },
  "language_info": {
   "codemirror_mode": {
    "name": "ipython",
    "version": 3
   },
   "file_extension": ".py",
   "mimetype": "text/x-python",
   "name": "python",
   "nbconvert_exporter": "python",
   "pygments_lexer": "ipython3",
   "version": "3.12.2"
  }
 },
 "nbformat": 4,
 "nbformat_minor": 5
}
