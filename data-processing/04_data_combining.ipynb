{
 "cells": [
  {
   "cell_type": "markdown",
   "id": "472b2232",
   "metadata": {},
   "source": [
    "## Data Cleaning"
   ]
  },
  {
   "cell_type": "markdown",
   "id": "a3fec8ee",
   "metadata": {},
   "source": [
    "##### Creating a consistent data set structure"
   ]
  },
  {
   "cell_type": "code",
   "execution_count": 1,
   "id": "faad82b1",
   "metadata": {},
   "outputs": [],
   "source": [
    "import json\n",
    "import os"
   ]
  },
  {
   "cell_type": "code",
   "execution_count": null,
   "id": "14f0ad88",
   "metadata": {},
   "outputs": [],
   "source": [
    "file_path = '/Users/noursafadi/Documents/Uni/Parsons-Spring-25/MajorStudio02/Thesis/political_ai/data/transcribed_data/1014_transcribed.json'\n",
    "\n",
    "with open(file_path, 'r', encoding='utf-8') as file:\n",
    "    data = json.load(file)\n",
    "\n",
    "for item in data:\n",
    "    if 'transcript' in item and isinstance(item['transcript'], str):\n",
    "        item['transcript'] = item['transcript'].lstrip()\n",
    "\n",
    "with open(file_path, 'w', encoding='utf-8') as file:\n",
    "    json.dump(data, file, ensure_ascii=False, indent=2)\n",
    "\n",
    "print(\"Successfully removed leading spaces from transcripts!\")"
   ]
  },
  {
   "cell_type": "code",
   "execution_count": null,
   "id": "5824288d",
   "metadata": {},
   "outputs": [],
   "source": [
    "LINKE_PATH = \"/LinkeDataset.json\"\n",
    "AFD_PATH = \"/transcribed.json\"\n",
    "\n",
    "with open(LINKE_PATH, \"r\", encoding=\"utf-8\") as file: \n",
    "    linke_df = json.load(file)\n",
    "\n",
    "with open(AFD_PATH, \"r\", encoding=\"utf-8\") as file:\n",
    "    afd_df = json.load(file)"
   ]
  },
  {
   "cell_type": "code",
   "execution_count": null,
   "id": "43a8b58e",
   "metadata": {},
   "outputs": [],
   "source": [
    "print(\"DIE LINKE DF: \",len(linke_df))\n",
    "print(\"AFD DF: \",len(afd_df))"
   ]
  },
  {
   "cell_type": "code",
   "execution_count": null,
   "id": "12f98202",
   "metadata": {},
   "outputs": [],
   "source": [
    "linke_df[:2]"
   ]
  },
  {
   "cell_type": "markdown",
   "id": "f4e5b152",
   "metadata": {},
   "source": [
    "Assign each object new properties: score and party to match Die Linke data set"
   ]
  },
  {
   "cell_type": "code",
   "execution_count": null,
   "id": "6cf8a356",
   "metadata": {},
   "outputs": [],
   "source": [
    "for item in afd_df: \n",
    "    item[\"party\"] = \"AFD\"\n",
    "    item[\"score\"] = 1\n",
    "\n",
    "print(afd_df[1][\"score\"])"
   ]
  },
  {
   "cell_type": "markdown",
   "id": "9cf8bcef",
   "metadata": {},
   "source": [
    "Reorder both data sets so they match: <br>\n",
    "title <br>\n",
    "party <br>\n",
    "score <br>\n",
    "transcript <br>"
   ]
  },
  {
   "cell_type": "code",
   "execution_count": null,
   "id": "3de2dc16",
   "metadata": {},
   "outputs": [],
   "source": [
    "reordered_afd = []\n",
    "for item in afd_df:\n",
    "    reordered_item = {\n",
    "        \"title\": item[\"title\"],\n",
    "        \"party\": item[\"party\"],\n",
    "        \"score\": item[\"score\"],\n",
    "        \"transcript\": item[\"transcript\"]\n",
    "    }\n",
    "    reordered_afd.append(reordered_item)\n",
    "\n",
    "reordered_linke = []\n",
    "for item in linke_df:\n",
    "    reordered_item = {\n",
    "        \"title\": item[\"title\"],\n",
    "        \"party\": item[\"party\"],\n",
    "        \"score\": item[\"score\"],\n",
    "        \"transcript\": item[\"transcript\"]\n",
    "    }\n",
    "    reordered_linke.append(reordered_item)"
   ]
  },
  {
   "cell_type": "code",
   "execution_count": null,
   "id": "662d9376",
   "metadata": {},
   "outputs": [],
   "source": [
    "reordered_afd"
   ]
  },
  {
   "cell_type": "code",
   "execution_count": null,
   "id": "e3e31656",
   "metadata": {},
   "outputs": [],
   "source": [
    "reordered_afd[0]"
   ]
  },
  {
   "cell_type": "code",
   "execution_count": null,
   "id": "c917960b",
   "metadata": {},
   "outputs": [],
   "source": [
    "reordered_linke[0]"
   ]
  },
  {
   "cell_type": "code",
   "execution_count": null,
   "id": "366bb802",
   "metadata": {},
   "outputs": [],
   "source": [
    "output_path = \"/Users/noursafadi/Documents/Uni/Parsons-Spring-25/MajorStudio02/Thesis/political_ai/data/combined_dataset.json\"\n",
    "\n",
    "combined_data = reordered_afd + reordered_linke\n",
    "with open(output_path, \"w\", encoding=\"utf-8\") as file:\n",
    "    json.dump(combined_data, file, ensure_ascii=False, indent=2)"
   ]
  },
  {
   "cell_type": "code",
   "execution_count": null,
   "id": "0362a169",
   "metadata": {},
   "outputs": [],
   "source": [
    "len(combined_data)"
   ]
  }
 ],
 "metadata": {
  "kernelspec": {
   "display_name": "base",
   "language": "python",
   "name": "python3"
  },
  "language_info": {
   "codemirror_mode": {
    "name": "ipython",
    "version": 3
   },
   "file_extension": ".py",
   "mimetype": "text/x-python",
   "name": "python",
   "nbconvert_exporter": "python",
   "pygments_lexer": "ipython3",
   "version": "3.12.2"
  }
 },
 "nbformat": 4,
 "nbformat_minor": 5
}
