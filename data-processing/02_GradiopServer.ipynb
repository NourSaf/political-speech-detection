{
 "cells": [
  {
   "cell_type": "markdown",
   "id": "621dacf9",
   "metadata": {},
   "source": [
    "# Gradio Server"
   ]
  },
  {
   "cell_type": "markdown",
   "id": "1a0acfe1",
   "metadata": {},
   "source": [
    "This code runs on a remote GPU computer <br>\n",
    "Using Whiper to transcipt the data "
   ]
  },
  {
   "cell_type": "code",
   "execution_count": null,
   "id": "0ed6640a",
   "metadata": {},
   "outputs": [],
   "source": [
    "!pip install openai-whisper \n",
    "!pip install gradio"
   ]
  },
  {
   "cell_type": "code",
   "execution_count": null,
   "id": "ad8f7e08",
   "metadata": {},
   "outputs": [],
   "source": [
    "import whisper\n",
    "import gradio as gr\n",
    "import torch"
   ]
  },
  {
   "cell_type": "code",
   "execution_count": null,
   "id": "99f04a02",
   "metadata": {},
   "outputs": [],
   "source": [
    "device = \"cuda\" if torch.cuda.is_available() else \"cpu\"\n",
    "\n",
    "model = whisper.load_model(\"large\").to(device)"
   ]
  },
  {
   "cell_type": "code",
   "execution_count": null,
   "id": "7c5771b0",
   "metadata": {},
   "outputs": [],
   "source": [
    "def transcribe(audio):\n",
    "    result = model.transcribe(audio, language=\"de\")  \n",
    "    return result[\"text\"]\n",
    "\n",
    "iface = gr.Interface(fn=transcribe, inputs=gr.Audio(type=\"filepath\"), outputs=\"text\")\n",
    "\n",
    "iface.launch(share=True, show_error=True)"
   ]
  }
 ],
 "metadata": {
  "kernelspec": {
   "display_name": "Python (pyenv 3.10)",
   "language": "python",
   "name": "pyenv310"
  },
  "language_info": {
   "codemirror_mode": {
    "name": "ipython",
    "version": 3
   },
   "file_extension": ".py",
   "mimetype": "text/x-python",
   "name": "python",
   "nbconvert_exporter": "python",
   "pygments_lexer": "ipython3",
   "version": "3.10.12"
  }
 },
 "nbformat": 4,
 "nbformat_minor": 5
}
